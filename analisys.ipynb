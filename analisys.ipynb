{
 "cells": [
  {
   "cell_type": "code",
   "execution_count": 32,
   "metadata": {},
   "outputs": [],
   "source": [
    "df.to_csv('f_telemetry_data.csv', decimal=\",\", sep=\";\")"
   ]
  },
  {
   "cell_type": "code",
   "execution_count": 31,
   "metadata": {},
   "outputs": [],
   "source": [
    "df['wheel_on_rumble_strip'] = df[['wheel_on_rumble_strip_front_left', 'wheel_on_rumble_strip_front_right', 'wheel_on_rumble_strip_rear_left', 'wheel_on_rumble_strip_rear_right']].any(axis=1)"
   ]
  },
  {
   "cell_type": "code",
   "execution_count": 30,
   "metadata": {},
   "outputs": [],
   "source": [
    "df['current_section_time'] = df.groupby(['lap_number', 'sector'])['current_lap_time'].transform(lambda x: x - x.min())"
   ]
  },
  {
   "cell_type": "code",
   "execution_count": 29,
   "metadata": {},
   "outputs": [],
   "source": [
    "# ..converting from fahrenheit to kelvin..\n",
    "for column in ['tire_temp_front_left', 'tire_temp_front_right', \n",
    "                'tire_temp_rear_left', 'tire_temp_rear_right']:\n",
    "    df[column] = (df[column] - 32) * 5.0 / 9.0"
   ]
  },
  {
   "cell_type": "code",
   "execution_count": 28,
   "metadata": {},
   "outputs": [],
   "source": [
    "# ..points where start end end each section..\n",
    "first_x, first_y = 809.8262, 141.70494\n",
    "second_x, second_y = -694.0124, 299.16605\n",
    "thirdy_x, thirdy_y = 342.6821, 289.19034\n",
    "\n",
    "# ..variables..\n",
    "radius = 125\n",
    "first = True\n",
    "second = False\n",
    "thirdy = False\n",
    "nextlap = 1\n",
    "\n",
    "df['sector'] = None\n",
    "\n",
    "for index, row in df.iterrows():\n",
    "    if not pd.isnull(row['sector']):\n",
    "        continue\n",
    "    \n",
    "    # ..if the coordinate's distance from the start of the section\n",
    "    #  is less than the radius and the respective section is being defined, \n",
    "    # it's defined as the respective section\n",
    "\n",
    "    if first:\n",
    "        if pow(row[\"position_x\"] - second_x, 2) + pow(row[\"position_z\"] - second_y, 2) < radius:\n",
    "            first = False\n",
    "            second = True\n",
    "        \n",
    "        df.at[index, \"sector\"] = \"sector1\"\n",
    "        continue\n",
    "            \n",
    "    if second:\n",
    "        if pow(row[\"position_x\"] - thirdy_x, 2) + pow(row[\"position_z\"] - thirdy_y, 2) < radius:\n",
    "            second = False\n",
    "            thirdy = True\n",
    "        \n",
    "        df.at[index, \"sector\"] = \"sector2\"\n",
    "        continue\n",
    "    \n",
    "    if thirdy:\n",
    "        if row['lap_number'] == nextlap:\n",
    "            thirdy = False\n",
    "            first = True\n",
    "            nextlap += 1\n",
    "            df.at[index, \"sector\"] = \"sector1\"\n",
    "        else:\n",
    "            df.at[index, \"sector\"] = \"sector3\"\n",
    "        continue\n"
   ]
  },
  {
   "cell_type": "code",
   "execution_count": 27,
   "metadata": {},
   "outputs": [],
   "source": [
    "# ..converting speed in m/s to km/h..\n",
    "df['speed'] = df['speed'] * 3.6"
   ]
  },
  {
   "cell_type": "code",
   "execution_count": 26,
   "metadata": {},
   "outputs": [],
   "source": [
    "# ..replacing lap numbers to start by number one..\n",
    "df['lap_number'] = df['lap_number'].replace(4, 5)\n",
    "df['lap_number'] = df['lap_number'].replace(3, 4)\n",
    "df['lap_number'] = df['lap_number'].replace(2, 3)\n",
    "df['lap_number'] = df['lap_number'].replace(1, 2)\n",
    "df['lap_number'] = df['lap_number'].replace(0, 1)"
   ]
  },
  {
   "cell_type": "code",
   "execution_count": 25,
   "metadata": {},
   "outputs": [],
   "source": [
    "df = pd.read_csv(\"telemetry-rio-5-laps (1).csv\").loc[:, [\n",
    "    'acceleration',\n",
    "    'boost', \n",
    "    'brake',\n",
    "    'current_engine_rpm',\n",
    "    'current_lap_time',\n",
    "    'fuel',\n",
    "    'gear',\n",
    "    'lap_number',\n",
    "    'position_x',\n",
    "    'position_z',\n",
    "    'power',\n",
    "    'speed',\n",
    "    'steer',\n",
    "    'tire_combined_slip_front_left',\n",
    "    'tire_combined_slip_front_right',\n",
    "    'tire_combined_slip_rear_left',\n",
    "    'tire_combined_slip_rear_right',\n",
    "    'tire_slip_angle_front_left',\n",
    "    'tire_slip_angle_front_right',\n",
    "    'tire_slip_angle_rear_left',\n",
    "    'tire_slip_angle_rear_right',\n",
    "    'tire_slip_rotation_front_left',\n",
    "    'tire_slip_rotation_front_right',\n",
    "    'tire_slip_rotation_rear_left',\n",
    "    'tire_slip_rotation_rear_right',\n",
    "    'tire_temp_front_left',\n",
    "    'tire_temp_front_right',\n",
    "    'tire_temp_rear_left',\n",
    "    'tire_temp_rear_right',\n",
    "    'torque',\n",
    "    'wheel_on_rumble_strip_front_left',\n",
    "    'wheel_on_rumble_strip_front_right',\n",
    "    'wheel_on_rumble_strip_rear_left',\n",
    "    'wheel_on_rumble_strip_rear_right'\n",
    "]]"
   ]
  },
  {
   "cell_type": "code",
   "execution_count": 5,
   "metadata": {},
   "outputs": [],
   "source": [
    "import pandas as pd \n",
    "import numpy as np \n",
    "import matplotlib.pyplot"
   ]
  }
 ],
 "metadata": {
  "kernelspec": {
   "display_name": "Python 3",
   "language": "python",
   "name": "python3"
  },
  "language_info": {
   "codemirror_mode": {
    "name": "ipython",
    "version": 3
   },
   "file_extension": ".py",
   "mimetype": "text/x-python",
   "name": "python",
   "nbconvert_exporter": "python",
   "pygments_lexer": "ipython3",
   "version": "3.12.1"
  }
 },
 "nbformat": 4,
 "nbformat_minor": 2
}
