{
 "cells": [
  {
   "cell_type": "code",
   "execution_count": 1,
   "metadata": {},
   "outputs": [],
   "source": [
    "from math import sqrt\n",
    "import pandas as pd\n",
    "\n",
    "df = pd.read_csv('telemetry-rio-5-laps.csv', decimal='.').loc[:, ['position_x', 'position_y', 'position_z', 'lap_number', 'gear', 'speed', 'current_engine_rpm', 'fuel', 'wheel_on_rumble_strip_front_left', 'wheel_on_rumble_strip_front_right', 'wheel_on_rumble_strip_rear_left', 'wheel_on_rumble_strip_rear_right']]\n",
    "\n",
    "first_x, first_y = 809.8262, 141.70494\n",
    "second_x, second_y = -694.0124, 299.16605\n",
    "thirdy_x, thirdy_y = 342.6821, 289.19034\n",
    "\n",
    "\n",
    "radius = 125\n",
    "first = True\n",
    "second = False\n",
    "thirdy = False\n",
    "i = 0\n",
    "\n",
    "df['sector'] = None\n",
    "\n",
    "for index, row in df.iterrows():\n",
    "    if not pd.isnull(row['sector']):\n",
    "        continue\n",
    "    \n",
    "    if first:\n",
    "        if pow(row[\"position_x\"] - second_x, 2) + pow(row[\"position_z\"] - second_y, 2) < radius:\n",
    "            first = False\n",
    "            second = True\n",
    "        \n",
    "        df.at[index, \"sector\"] = \"sector1\"\n",
    "        continue\n",
    "            \n",
    "    if second:\n",
    "        if pow(row[\"position_x\"] - thirdy_x, 2) + pow(row[\"position_z\"] - thirdy_y, 2) < radius:\n",
    "            second = False\n",
    "            thirdy = True\n",
    "        \n",
    "        df.at[index, \"sector\"] = \"sector2\"\n",
    "        continue\n",
    "    \n",
    "    if thirdy:\n",
    "        if pow(row[\"position_x\"] - first_x, 2) + pow(row[\"position_z\"] - first_y, 2) < radius:\n",
    "            thirdy = False\n",
    "            first = True\n",
    "        \n",
    "        df.at[index, \"sector\"] = \"sector3\"\n",
    "        continue\n",
    "\n",
    "df.to_csv('CircuitData.csv')"
   ]
  }
 ],
 "metadata": {
  "kernelspec": {
   "display_name": "Python 3",
   "language": "python",
   "name": "python3"
  },
  "language_info": {
   "codemirror_mode": {
    "name": "ipython",
    "version": 3
   },
   "file_extension": ".py",
   "mimetype": "text/x-python",
   "name": "python",
   "nbconvert_exporter": "python",
   "pygments_lexer": "ipython3",
   "version": "3.12.1"
  }
 },
 "nbformat": 4,
 "nbformat_minor": 2
}
