{
 "cells": [
  {
   "cell_type": "code",
   "execution_count": 26,
   "metadata": {},
   "outputs": [],
   "source": [
    "from math import sqrt\n",
    "import pandas as pd\n",
    "import numpy as np\n",
    "\n",
    "df = pd.read_csv('telemetry-rio-5-laps.csv', decimal='.').loc[:, ['current_lap_time', 'position_x', 'position_y', 'position_z', 'lap_number', 'gear', 'speed', 'current_engine_rpm', 'fuel', 'wheel_on_rumble_strip_front_left', 'wheel_on_rumble_strip_front_right', 'wheel_on_rumble_strip_rear_left', 'wheel_on_rumble_strip_rear_right']]\n",
    "\n",
    "first_x, first_y = 809.8262, 141.70494\n",
    "second_x, second_y = -694.0124, 299.16605\n",
    "thirdy_x, thirdy_y = 342.6821, 289.19034\n",
    "\n",
    "radius = 125\n",
    "first = True\n",
    "second = False\n",
    "thirdy = False\n",
    "nextlap = 1\n",
    "\n",
    "df['sector'] = None\n",
    "\n",
    "for index, row in df.iterrows():\n",
    "    if not pd.isnull(row['sector']):\n",
    "        continue\n",
    "    \n",
    "    if first:\n",
    "        if pow(row[\"position_x\"] - second_x, 2) + pow(row[\"position_z\"] - second_y, 2) < radius:\n",
    "            first = False\n",
    "            second = True\n",
    "        \n",
    "        df.at[index, \"sector\"] = \"sector1\"\n",
    "        continue\n",
    "            \n",
    "    if second:\n",
    "        if pow(row[\"position_x\"] - thirdy_x, 2) + pow(row[\"position_z\"] - thirdy_y, 2) < radius:\n",
    "            second = False\n",
    "            thirdy = True\n",
    "        \n",
    "        df.at[index, \"sector\"] = \"sector2\"\n",
    "        continue\n",
    "    \n",
    "    if thirdy:\n",
    "        if row['lap_number'] == nextlap:\n",
    "            thirdy = False\n",
    "            first = True\n",
    "            nextlap += 1\n",
    "            df.at[index, \"sector\"] = \"sector1\"\n",
    "        else:\n",
    "            df.at[index, \"sector\"] = \"sector3\"\n",
    "        continue\n",
    "\n",
    "df['current_section_time'] = df.groupby('sector')['current_lap_time'].transform(lambda x: x - x.iloc[0])\n",
    "\n",
    "df.to_csv('CircuitData.csv')"
   ]
  },
  {
   "cell_type": "code",
   "execution_count": 14,
   "metadata": {},
   "outputs": [],
   "source": [
    "import pandas as pd\n",
    "\n",
    "# Carregar o arquivo CSV com as colunas necessárias\n",
    "df = pd.read_csv('CircuitData.csv', decimal='.').loc[:, [\n",
    "    'current_lap_time', \n",
    "    'position_x', \n",
    "    'position_y', \n",
    "    'position_z', \n",
    "    'lap_number', \n",
    "    'gear', \n",
    "    'speed', \n",
    "    'current_engine_rpm', \n",
    "    'fuel', \n",
    "    'wheel_on_rumble_strip_front_left', \n",
    "    'wheel_on_rumble_strip_front_right', \n",
    "    'wheel_on_rumble_strip_rear_left', \n",
    "    'wheel_on_rumble_strip_rear_right', \n",
    "    'sector'\n",
    "]]\n",
    "\n",
    "# Criar a nova coluna 'current_section_time' com base na separação por setor\n",
    "df['current_section_time'] = df.groupby('sector')['current_lap_time'].transform(lambda x: x - x.iloc[0])\n",
    "\n",
    "# Salvar o DataFrame atualizado de volta no arquivo CSV\n",
    "df.to_csv('CircuitData.csv', index=False)\n"
   ]
  },
  {
   "cell_type": "code",
   "execution_count": null,
   "metadata": {},
   "outputs": [],
   "source": [
    "df"
   ]
  },
  {
   "cell_type": "code",
   "execution_count": 2,
   "metadata": {},
   "outputs": [
    {
     "name": "stdout",
     "output_type": "stream",
     "text": [
      "    Sector  Average_Speed\n",
      "0  sector1      43.068725\n",
      "1  sector2      36.404644\n",
      "2  sector3      37.706250\n"
     ]
    }
   ],
   "source": [
    "import pandas as pd\n",
    "\n",
    "df = pd.read_csv('CircuitData.csv')\n",
    "\n",
    "velocidade_media_por_setor = df.groupby('sector')['speed'].mean().reset_index()\n",
    "\n",
    "velocidade_media_por_setor.columns = ['Sector', 'Average_Speed']\n",
    "\n",
    "velocidade_media_por_setor.to_csv('VelocidadeMediaPorSetor.csv', index=False)\n",
    "\n",
    "print(velocidade_media_por_setor)\n"
   ]
  },
  {
   "cell_type": "code",
   "execution_count": 15,
   "metadata": {},
   "outputs": [
    {
     "name": "stdout",
     "output_type": "stream",
     "text": [
      "    lap_number   sector  sector_time\n",
      "0            0  sector1   160.789260\n",
      "1            0  sector2    76.168423\n",
      "2            0  sector3    36.117535\n",
      "3            1  sector1   158.154450\n",
      "4            1  sector2    74.083649\n",
      "5            1  sector3    33.457715\n",
      "6            2  sector1   155.697560\n",
      "7            2  sector2    72.735113\n",
      "8            2  sector3    31.025815\n",
      "9            3  sector1   158.829850\n",
      "10           3  sector2    71.867173\n",
      "11           3  sector3    34.124635\n",
      "12           4  sector1   153.113240\n",
      "13           4  sector2    69.884143\n",
      "14           4  sector3    28.424835\n"
     ]
    }
   ],
   "source": [
    "import pandas as pd\n",
    "\n",
    "# Carregar o arquivo CSV\n",
    "df = pd.read_csv('CircuitData.csv', decimal='.')\n",
    "\n",
    "# Calcular o tempo de cada setor por volta\n",
    "sector_times = df.groupby(['lap_number', 'sector'])['current_section_time'].max().reset_index()\n",
    "\n",
    "# Renomear a coluna para indicar que se trata do tempo do setor\n",
    "sector_times.rename(columns={'current_section_time': 'sector_time'}, inplace=True)\n",
    "\n",
    "# Exibir o resultado\n",
    "print(sector_times)\n",
    "\n",
    "# Opcional: Salvar o resultado em um novo CSV\n",
    "sector_times.to_csv('SectorTimesByLap.csv', index=False)\n"
   ]
  }
 ],
 "metadata": {
  "kernelspec": {
   "display_name": "Python 3",
   "language": "python",
   "name": "python3"
  },
  "language_info": {
   "codemirror_mode": {
    "name": "ipython",
    "version": 3
   },
   "file_extension": ".py",
   "mimetype": "text/x-python",
   "name": "python",
   "nbconvert_exporter": "python",
   "pygments_lexer": "ipython3",
   "version": "3.12.1"
  }
 },
 "nbformat": 4,
 "nbformat_minor": 2
}
