{
 "cells": [
  {
   "cell_type": "code",
   "execution_count": 1,
   "metadata": {},
   "outputs": [
    {
     "name": "stdout",
     "output_type": "stream",
     "text": [
      "   acceleration  brake  current_lap_time  lap_number  tire_temp_front_left  \\\n",
      "0            60      0          0.000000           1             49.914078   \n",
      "1            60      0          0.008331           1             49.914783   \n",
      "2           255      0          0.016670           1             49.915628   \n",
      "3           255      0          0.025003           1             49.916439   \n",
      "4           255      0          0.033348           1             49.917206   \n",
      "\n",
      "   tire_temp_front_right  tire_temp_rear_left  tire_temp_rear_right  \\\n",
      "0              49.825928            49.908700             49.908700   \n",
      "1              49.826594            49.909400             49.909400   \n",
      "2              49.827381            49.910228             49.910228   \n",
      "3              49.828152            49.911050             49.911050   \n",
      "4              49.828889            49.911847             49.911847   \n",
      "\n",
      "   tire_slip_rotation_front_left  tire_slip_rotation_front_right  ...  \\\n",
      "0                       0.000359                        0.000305  ...   \n",
      "1                       0.000455                        0.000352  ...   \n",
      "2                       0.000487                        0.000379  ...   \n",
      "3                       0.000711                        0.000377  ...   \n",
      "4                       0.001017                        0.000400  ...   \n",
      "\n",
      "   tire_slip_angle_front_left  tire_slip_angle_front_right  \\\n",
      "0                    0.013580                     0.012843   \n",
      "1                    0.014738                     0.013647   \n",
      "2                    0.011036                     0.010069   \n",
      "3                    0.000615                    -0.000215   \n",
      "4                   -0.005784                    -0.006541   \n",
      "\n",
      "   tire_slip_angle_rear_left  tire_slip_angle_rear_right  \\\n",
      "0                   0.012506                    0.008097   \n",
      "1                   0.013926                    0.008801   \n",
      "2                   0.013247                    0.008132   \n",
      "3                   0.013314                    0.007971   \n",
      "4                   0.013826                    0.007870   \n",
      "\n",
      "   tire_combined_slip_front_left  tire_combined_slip_front_right  \\\n",
      "0                       0.013585                        0.012847   \n",
      "1                       0.014745                        0.013652   \n",
      "2                       0.011047                        0.010076   \n",
      "3                       0.000940                        0.000434   \n",
      "4                       0.005872                        0.006553   \n",
      "\n",
      "   tire_combined_slip_rear_left  tire_combined_slip_rear_right  position_x  \\\n",
      "0                      0.012976                       0.008262   809.82620   \n",
      "1                      0.013926                       0.008803   809.68680   \n",
      "2                      0.013412                       0.008179   809.54750   \n",
      "3                      0.013374                       0.008044   809.40814   \n",
      "4                      0.014816                       0.010063   809.26860   \n",
      "\n",
      "   position_z  \n",
      "0   141.70494  \n",
      "1   141.58860  \n",
      "2   141.47218  \n",
      "3   141.35587  \n",
      "4   141.23941  \n",
      "\n",
      "[5 rows x 22 columns]\n"
     ]
    }
   ],
   "source": [
    "import pandas as pd\n",
    "df = pd.read_csv(\"telemetry-rio-5-laps.csv\").loc[:,['acceleration','brake','current_lap_time','lap_number','tire_temp_front_left', 'tire_temp_front_right', 'tire_temp_rear_left', 'tire_temp_rear_right','tire_slip_rotation_front_left', 'tire_slip_rotation_front_right', \n",
    "                       'tire_slip_rotation_rear_left', 'tire_slip_rotation_rear_right','tire_slip_angle_front_left', 'tire_slip_angle_front_right', \n",
    "                         'tire_slip_angle_rear_left', 'tire_slip_angle_rear_right','tire_combined_slip_front_left', 'tire_combined_slip_front_right', \n",
    "                        'tire_combined_slip_rear_left', 'tire_combined_slip_rear_right',\"position_x\",\"position_z\"]]\n",
    "\n",
    "\n",
    "\n",
    "for column in ['tire_temp_front_left', 'tire_temp_front_right', \n",
    "                'tire_temp_rear_left', 'tire_temp_rear_right']:\n",
    "    df[column] = (df[column] - 32) * 5.0 / 9.0\n",
    "\n",
    "df['lap_number'] = df['lap_number'].replace({4: 5, 3: 4, 2: 3, 1: 2, 0: 1})\n",
    "\n",
    "df.to_csv('WheelDetails.csv', decimal=\",\", sep=\";\", index=False)\n",
    "\n",
    "print(df.head())\n"
   ]
  },
  {
   "cell_type": "code",
   "execution_count": 12,
   "metadata": {},
   "outputs": [
    {
     "name": "stdout",
     "output_type": "stream",
     "text": [
      "   lap_number  current_lap_time  acceleration  brake       wheel  slip_angle\n",
      "0           1          0.000000            60      0  Front Left    0.013580\n",
      "1           1          0.008331            60      0  Front Left    0.014738\n",
      "2           1          0.016670           255      0  Front Left    0.011036\n",
      "3           1          0.025003           255      0  Front Left    0.000615\n",
      "4           1          0.033348           255      0  Front Left   -0.005784\n"
     ]
    }
   ],
   "source": [
    "import pandas as pd\n",
    "\n",
    "# Carregar os dados\n",
    "df = pd.read_csv(\"telemetry-rio-5-laps.csv\").loc[:, ['acceleration', 'brake', 'current_lap_time', 'lap_number',\n",
    "    'tire_temp_front_left', 'tire_temp_front_right', 'tire_temp_rear_left', 'tire_temp_rear_right',\n",
    "    'tire_slip_rotation_front_left', 'tire_slip_rotation_front_right', \n",
    "    'tire_slip_rotation_rear_left', 'tire_slip_rotation_rear_right',\n",
    "    'tire_slip_angle_front_left', 'tire_slip_angle_front_right', \n",
    "    'tire_slip_angle_rear_left', 'tire_slip_angle_rear_right',\n",
    "    'tire_combined_slip_front_left', 'tire_combined_slip_front_right', \n",
    "    'tire_combined_slip_rear_left', 'tire_combined_slip_rear_right']]\n",
    "\n",
    "# Conversão de temperatura de Fahrenheit para Celsius\n",
    "df['tire_temp_front_left'] = (df[\"tire_temp_front_left\"] - 32) * 5.0 / 9.0 \n",
    "df['tire_temp_front_right'] = (df[\"tire_temp_front_right\"] - 32) * 5.0 / 9.0 \n",
    "df['tire_temp_rear_left'] = (df[\"tire_temp_rear_left\"] - 32) * 5.0 / 9.0 \n",
    "df['tire_temp_rear_right'] = (df[\"tire_temp_rear_right\"] - 32) * 5.0 / 9.0 \n",
    "\n",
    "# Substituir números das voltas\n",
    "df['lap_number'] = df[\"lap_number\"].replace(4, 5)\n",
    "df['lap_number'] = df[\"lap_number\"].replace(3, 4)\n",
    "df['lap_number'] = df[\"lap_number\"].replace(2, 3)\n",
    "df['lap_number'] = df[\"lap_number\"].replace(1, 2)\n",
    "df['lap_number'] = df[\"lap_number\"].replace(0, 1)\n",
    "\n",
    "# Juntar os ângulos em uma única coluna\n",
    "angle_columns = ['tire_slip_angle_front_left', 'tire_slip_angle_front_right', \n",
    "                 'tire_slip_angle_rear_left', 'tire_slip_angle_rear_right']\n",
    "\n",
    "# Usar pd.melt para reorganizar o DataFrame\n",
    "melted_angles = pd.melt(df, id_vars=['lap_number', 'current_lap_time', 'acceleration', 'brake'],\n",
    "                         value_vars=angle_columns, \n",
    "                         var_name='wheel', \n",
    "                         value_name='slip_angle')\n",
    "\n",
    "# Mapeia os nomes das rodas para uma coluna mais legível\n",
    "melted_angles['wheel'] = melted_angles['wheel'].replace({\n",
    "    'tire_slip_angle_front_left': 'Front Left',\n",
    "    'tire_slip_angle_front_right': 'Front Right',\n",
    "    'tire_slip_angle_rear_left': 'Rear Left',\n",
    "    'tire_slip_angle_rear_right': 'Rear Right'\n",
    "})\n",
    "\n",
    "# Exportar para CSV se necessário\n",
    "melted_angles.to_csv('Test.csv', decimal=\",\", sep=\";\", index=False)\n",
    "\n",
    "# Visualizar as primeiras linhas do novo DataFrame\n",
    "print(melted_angles.head())\n"
   ]
  },
  {
   "cell_type": "code",
   "execution_count": null,
   "metadata": {},
   "outputs": [],
   "source": [
    "import pandas as pd"
   ]
  }
 ],
 "metadata": {
  "kernelspec": {
   "display_name": "Python 3",
   "language": "python",
   "name": "python3"
  },
  "language_info": {
   "codemirror_mode": {
    "name": "ipython",
    "version": 3
   },
   "file_extension": ".py",
   "mimetype": "text/x-python",
   "name": "python",
   "nbconvert_exporter": "python",
   "pygments_lexer": "ipython3",
   "version": "3.12.1"
  },
  "polyglot_notebook": {
   "kernelInfo": {
    "defaultKernelName": "csharp",
    "items": [
     {
      "aliases": [],
      "name": "csharp"
     }
    ]
   }
  }
 },
 "nbformat": 4,
 "nbformat_minor": 2
}
